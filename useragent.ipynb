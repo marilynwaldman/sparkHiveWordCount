{
 "cells": [
  {
   "cell_type": "code",
   "execution_count": 1,
   "metadata": {},
   "outputs": [
    {
     "data": {
      "text/plain": [
       "['.ipynb_checkpoints',\n",
       " 'derby.log',\n",
       " 'useragent.ipynb',\n",
       " 'spark-warehouse',\n",
       " 'metastore_db']"
      ]
     },
     "execution_count": 1,
     "metadata": {},
     "output_type": "execute_result"
    }
   ],
   "source": [
    "import os\n",
    "os.listdir(os.getcwd())"
   ]
  },
  {
   "cell_type": "code",
   "execution_count": 2,
   "metadata": {},
   "outputs": [],
   "source": [
    "from pyspark.sql import *\n",
    "from pyspark.sql.types import *\n",
    "import pyspark.sql.functions as f\n",
    "import pyspark.sql.types as t\n",
    "import re\n"
   ]
  },
  {
   "cell_type": "code",
   "execution_count": 3,
   "metadata": {},
   "outputs": [],
   "source": [
    "sparkSession = (SparkSession\n",
    "                .builder\n",
    "                .appName('example')\n",
    "                .master('local')\n",
    "                .enableHiveSupport()\n",
    "                .getOrCreate())"
   ]
  },
  {
   "cell_type": "code",
   "execution_count": 4,
   "metadata": {},
   "outputs": [
    {
     "data": {
      "text/html": [
       "<div>\n",
       "<table border=\"1\" class=\"dataframe\">\n",
       "  <thead>\n",
       "    <tr style=\"text-align: right;\">\n",
       "      <th></th>\n",
       "      <th>databaseName</th>\n",
       "    </tr>\n",
       "  </thead>\n",
       "  <tbody>\n",
       "    <tr>\n",
       "      <th>0</th>\n",
       "      <td>default</td>\n",
       "    </tr>\n",
       "    <tr>\n",
       "      <th>1</th>\n",
       "      <td>logs</td>\n",
       "    </tr>\n",
       "  </tbody>\n",
       "</table>\n",
       "</div>"
      ],
      "text/plain": [
       "  databaseName\n",
       "0      default\n",
       "1         logs"
      ]
     },
     "execution_count": 4,
     "metadata": {},
     "output_type": "execute_result"
    }
   ],
   "source": [
    "#Check if hive databases are available\n",
    "sparkSession.sql(\"\"\"\n",
    "     show databases\n",
    "\"\"\").toPandas()"
   ]
  },
  {
   "cell_type": "code",
   "execution_count": 5,
   "metadata": {},
   "outputs": [
    {
     "data": {
      "text/plain": [
       "[Database(name='default', description='Default Hive database', locationUri='file:/home/jovyan/useragent/spark-warehouse'),\n",
       " Database(name='logs', description='', locationUri='file:/home/jovyan/useragent/spark-warehouse/logs.db')]"
      ]
     },
     "execution_count": 5,
     "metadata": {},
     "output_type": "execute_result"
    }
   ],
   "source": [
    "sparkSession.catalog.listDatabases()"
   ]
  },
  {
   "cell_type": "code",
   "execution_count": 6,
   "metadata": {},
   "outputs": [
    {
     "data": {
      "text/html": [
       "<div>\n",
       "<table border=\"1\" class=\"dataframe\">\n",
       "  <thead>\n",
       "    <tr style=\"text-align: right;\">\n",
       "      <th></th>\n",
       "      <th>database</th>\n",
       "      <th>tableName</th>\n",
       "      <th>isTemporary</th>\n",
       "    </tr>\n",
       "  </thead>\n",
       "  <tbody>\n",
       "  </tbody>\n",
       "</table>\n",
       "</div>"
      ],
      "text/plain": [
       "Empty DataFrame\n",
       "Columns: [database, tableName, isTemporary]\n",
       "Index: []"
      ]
     },
     "execution_count": 6,
     "metadata": {},
     "output_type": "execute_result"
    }
   ],
   "source": [
    "#Check tables in a database\n",
    "sparkSession.sql(\"\"\"\n",
    "     show tables in default\n",
    "\"\"\").toPandas()"
   ]
  },
  {
   "cell_type": "code",
   "execution_count": 7,
   "metadata": {},
   "outputs": [
    {
     "data": {
      "text/plain": [
       "[]"
      ]
     },
     "execution_count": 7,
     "metadata": {},
     "output_type": "execute_result"
    }
   ],
   "source": [
    "sparkSession.catalog.listTables(\"default\")\n"
   ]
  },
  {
   "cell_type": "code",
   "execution_count": 8,
   "metadata": {},
   "outputs": [
    {
     "data": {
      "text/plain": [
       "DataFrame[]"
      ]
     },
     "execution_count": 8,
     "metadata": {},
     "output_type": "execute_result"
    }
   ],
   "source": [
    "sparkSession.sql('create database IF NOT EXISTS logs')"
   ]
  },
  {
   "cell_type": "code",
   "execution_count": 9,
   "metadata": {},
   "outputs": [
    {
     "data": {
      "text/plain": [
       "[Database(name='default', description='Default Hive database', locationUri='file:/home/jovyan/useragent/spark-warehouse'),\n",
       " Database(name='logs', description='', locationUri='file:/home/jovyan/useragent/spark-warehouse/logs.db')]"
      ]
     },
     "execution_count": 9,
     "metadata": {},
     "output_type": "execute_result"
    }
   ],
   "source": [
    "sparkSession.catalog.listDatabases()"
   ]
  },
  {
   "cell_type": "code",
   "execution_count": 10,
   "metadata": {},
   "outputs": [],
   "source": [
    "# Define schema\n",
    "schema = StructType([\n",
    "    StructField(\"ip\", StringType(), True),\n",
    "    StructField(\"clientID\", StringType(), True),\n",
    "    StructField(\"userID\", StringType(), True),\n",
    "    StructField(\"time\", StringType(), True),\n",
    "    StructField(\"method\", StringType(), True),\n",
    "    StructField(\"endpoint\", StringType(), True),\n",
    "    StructField(\"protocol\", StringType(), True),\n",
    "    StructField(\"response\", IntegerType(), True),\n",
    "    StructField(\"size\", IntegerType(), True),\n",
    "    StructField(\"user_agent\", StringType(), True)\n",
    "])"
   ]
  },
  {
   "cell_type": "code",
   "execution_count": 11,
   "metadata": {},
   "outputs": [
    {
     "data": {
      "text/plain": [
       "pyspark.sql.dataframe.DataFrame"
      ]
     },
     "execution_count": 11,
     "metadata": {},
     "output_type": "execute_result"
    }
   ],
   "source": [
    "useragent_from_csv_df = sparkSession\\\n",
    " .read.csv(\"../data/user_agent.csv\", schema)\n",
    "type(useragent_from_csv_df)    "
   ]
  },
  {
   "cell_type": "code",
   "execution_count": 12,
   "metadata": {},
   "outputs": [],
   "source": [
    "sparkSession.sql('use logs')\n",
    "useragent_from_csv_df.write.mode('overwrite').saveAsTable(\"useragent\")"
   ]
  },
  {
   "cell_type": "code",
   "execution_count": 13,
   "metadata": {},
   "outputs": [
    {
     "data": {
      "text/plain": [
       "[Table(name='useragent', database='logs', description=None, tableType='MANAGED', isTemporary=False)]"
      ]
     },
     "execution_count": 13,
     "metadata": {},
     "output_type": "execute_result"
    }
   ],
   "source": [
    "sparkSession.catalog.listTables(\"logs\")"
   ]
  },
  {
   "cell_type": "code",
   "execution_count": 14,
   "metadata": {},
   "outputs": [
    {
     "data": {
      "text/html": [
       "<div>\n",
       "<table border=\"1\" class=\"dataframe\">\n",
       "  <thead>\n",
       "    <tr style=\"text-align: right;\">\n",
       "      <th></th>\n",
       "      <th>ip</th>\n",
       "      <th>clientID</th>\n",
       "      <th>userID</th>\n",
       "      <th>time</th>\n",
       "      <th>method</th>\n",
       "      <th>endpoint</th>\n",
       "      <th>protocol</th>\n",
       "      <th>response</th>\n",
       "      <th>size</th>\n",
       "      <th>user_agent</th>\n",
       "    </tr>\n",
       "  </thead>\n",
       "  <tbody>\n",
       "    <tr>\n",
       "      <th>0</th>\n",
       "      <td>64.242.88.10</td>\n",
       "      <td>-</td>\n",
       "      <td>-</td>\n",
       "      <td>07/Mar/2004:16:05:49-0800</td>\n",
       "      <td>GET</td>\n",
       "      <td>/twiki/bin/edit/Main/Double_bounce_sender?topi...</td>\n",
       "      <td>HTTP/1.1</td>\n",
       "      <td>401</td>\n",
       "      <td>12846</td>\n",
       "      <td>Mozilla/5.0 (Windows NT 6.1; WOW64) AppleWebKi...</td>\n",
       "    </tr>\n",
       "    <tr>\n",
       "      <th>1</th>\n",
       "      <td>64.242.88.10</td>\n",
       "      <td>-</td>\n",
       "      <td>-</td>\n",
       "      <td>07/Mar/2004:16:06:51 -0800</td>\n",
       "      <td>GET</td>\n",
       "      <td>/twiki/bin/rdiff/TWiki/NewUserTemplate?rev1=1....</td>\n",
       "      <td>HTTP/1.1</td>\n",
       "      <td>200</td>\n",
       "      <td>4523</td>\n",
       "      <td>Mozilla/5.0 (Windows; U; Windows NT 5.1; en-US...</td>\n",
       "    </tr>\n",
       "    <tr>\n",
       "      <th>2</th>\n",
       "      <td>64.242.88.10</td>\n",
       "      <td>-</td>\n",
       "      <td>-</td>\n",
       "      <td>07/Mar/2004:16:10:02 -0800</td>\n",
       "      <td>GET</td>\n",
       "      <td>/mailman/listinfo/hsdivision</td>\n",
       "      <td>HTTP/1.1</td>\n",
       "      <td>200</td>\n",
       "      <td>6291</td>\n",
       "      <td>Mozilla/5.0 (Windows; U; Windows NT 5.1; en-US...</td>\n",
       "    </tr>\n",
       "    <tr>\n",
       "      <th>3</th>\n",
       "      <td>64.242.88.10</td>\n",
       "      <td>-</td>\n",
       "      <td>-</td>\n",
       "      <td>07/Mar/2004:16:11:58 -0800</td>\n",
       "      <td>GET</td>\n",
       "      <td>/twiki/bin/view/TWiki/WikiSyntax</td>\n",
       "      <td>HTTP/1.1</td>\n",
       "      <td>200</td>\n",
       "      <td>7352</td>\n",
       "      <td>Mozilla/5.0 (Windows; U; Windows NT 5.1; en-US...</td>\n",
       "    </tr>\n",
       "    <tr>\n",
       "      <th>4</th>\n",
       "      <td>64.240.88.10</td>\n",
       "      <td>-</td>\n",
       "      <td>-</td>\n",
       "      <td>07/Mar/2004:15:05:49 -0800</td>\n",
       "      <td>GET</td>\n",
       "      <td>/twiki/bin/edit/Main/Double_bounce_sender?topi...</td>\n",
       "      <td>HTTP/1.1</td>\n",
       "      <td>401</td>\n",
       "      <td>12846</td>\n",
       "      <td>None</td>\n",
       "    </tr>\n",
       "    <tr>\n",
       "      <th>5</th>\n",
       "      <td>64.240.88.10</td>\n",
       "      <td>-</td>\n",
       "      <td>-</td>\n",
       "      <td>07/Mar/2004:15:06:51 -0800</td>\n",
       "      <td>GET</td>\n",
       "      <td>/twiki/bin/rdiff/TWiki/NewUserTemplate?rev1=1....</td>\n",
       "      <td>HTTP/1.1</td>\n",
       "      <td>200</td>\n",
       "      <td>4523</td>\n",
       "      <td>Mozilla/5.0 (Windows; U; Windows NT 5.1; en-US...</td>\n",
       "    </tr>\n",
       "    <tr>\n",
       "      <th>6</th>\n",
       "      <td>64.240.88.10</td>\n",
       "      <td>-</td>\n",
       "      <td>-</td>\n",
       "      <td>07/Mar/2004:15:10:02 -0800</td>\n",
       "      <td>GET</td>\n",
       "      <td>/mailman/listinfo/hsdivision</td>\n",
       "      <td>HTTP/1.1</td>\n",
       "      <td>200</td>\n",
       "      <td>6291</td>\n",
       "      <td>Mozilla/5.0 (Windows22; U; Windows NT 5.1; en-...</td>\n",
       "    </tr>\n",
       "    <tr>\n",
       "      <th>7</th>\n",
       "      <td>64.240.88.10</td>\n",
       "      <td>-</td>\n",
       "      <td>-</td>\n",
       "      <td>07/Mar/2004:15:11:58 -0800</td>\n",
       "      <td>GET</td>\n",
       "      <td>/twiki/bin/view/TWiki/WikiSyntax</td>\n",
       "      <td>HTTP/1.1</td>\n",
       "      <td>200</td>\n",
       "      <td>7352</td>\n",
       "      <td>Mozilla/5.0 (Windows NT 6.1; WOW64) AppleWebKi...</td>\n",
       "    </tr>\n",
       "    <tr>\n",
       "      <th>8</th>\n",
       "      <td>68.240.88.10</td>\n",
       "      <td>-</td>\n",
       "      <td>-</td>\n",
       "      <td>07/Mar/2004:14:05:49 -0800</td>\n",
       "      <td>GET</td>\n",
       "      <td>/twiki/bin/edit/Main/Double_bounce_sender?topi...</td>\n",
       "      <td>HTTP/1.1</td>\n",
       "      <td>401</td>\n",
       "      <td>12846</td>\n",
       "      <td>None</td>\n",
       "    </tr>\n",
       "    <tr>\n",
       "      <th>9</th>\n",
       "      <td>68.240.88.10</td>\n",
       "      <td>-</td>\n",
       "      <td>-</td>\n",
       "      <td>07/Mar/2004:14:06:51 -0800</td>\n",
       "      <td>GET</td>\n",
       "      <td>/twiki/bin/rdiff/TWiki/NewUserTemplate?rev1=1....</td>\n",
       "      <td>HTTP/1.1</td>\n",
       "      <td>200</td>\n",
       "      <td>4523</td>\n",
       "      <td>Mozilla/5.0 (Windows; U; Windows NT 5.1; en-US...</td>\n",
       "    </tr>\n",
       "    <tr>\n",
       "      <th>10</th>\n",
       "      <td>68.240.88.10</td>\n",
       "      <td>-</td>\n",
       "      <td>-</td>\n",
       "      <td>07/Mar/2004:14:10:02 -0800</td>\n",
       "      <td>GET</td>\n",
       "      <td>/mailman/listinfo/hsdivision</td>\n",
       "      <td>HTTP/1.1</td>\n",
       "      <td>200</td>\n",
       "      <td>6291</td>\n",
       "      <td>Mozilla/5.0 (Windows; U; Windows NT 5.1; en-US...</td>\n",
       "    </tr>\n",
       "    <tr>\n",
       "      <th>11</th>\n",
       "      <td>68.240.88.10</td>\n",
       "      <td>-</td>\n",
       "      <td>-</td>\n",
       "      <td>07/Mar/2004:14:11:58 -0800</td>\n",
       "      <td>GET</td>\n",
       "      <td>/twiki/bin/view/TWiki/WikiSyntax</td>\n",
       "      <td>HTTP/1.1</td>\n",
       "      <td>200</td>\n",
       "      <td>7352</td>\n",
       "      <td>Mozilla/5.0   (compatible;    bingbot/2.0;    ...</td>\n",
       "    </tr>\n",
       "  </tbody>\n",
       "</table>\n",
       "</div>"
      ],
      "text/plain": [
       "              ip clientID userID                        time method  \\\n",
       "0   64.242.88.10        -      -   07/Mar/2004:16:05:49-0800    GET   \n",
       "1   64.242.88.10        -      -  07/Mar/2004:16:06:51 -0800    GET   \n",
       "2   64.242.88.10        -      -  07/Mar/2004:16:10:02 -0800    GET   \n",
       "3   64.242.88.10        -      -  07/Mar/2004:16:11:58 -0800    GET   \n",
       "4   64.240.88.10        -      -  07/Mar/2004:15:05:49 -0800    GET   \n",
       "5   64.240.88.10        -      -  07/Mar/2004:15:06:51 -0800    GET   \n",
       "6   64.240.88.10        -      -  07/Mar/2004:15:10:02 -0800    GET   \n",
       "7   64.240.88.10        -      -  07/Mar/2004:15:11:58 -0800    GET   \n",
       "8   68.240.88.10        -      -  07/Mar/2004:14:05:49 -0800    GET   \n",
       "9   68.240.88.10        -      -  07/Mar/2004:14:06:51 -0800    GET   \n",
       "10  68.240.88.10        -      -  07/Mar/2004:14:10:02 -0800    GET   \n",
       "11  68.240.88.10        -      -  07/Mar/2004:14:11:58 -0800    GET   \n",
       "\n",
       "                                             endpoint  protocol  response  \\\n",
       "0   /twiki/bin/edit/Main/Double_bounce_sender?topi...  HTTP/1.1       401   \n",
       "1   /twiki/bin/rdiff/TWiki/NewUserTemplate?rev1=1....  HTTP/1.1       200   \n",
       "2                        /mailman/listinfo/hsdivision  HTTP/1.1       200   \n",
       "3                    /twiki/bin/view/TWiki/WikiSyntax  HTTP/1.1       200   \n",
       "4   /twiki/bin/edit/Main/Double_bounce_sender?topi...  HTTP/1.1       401   \n",
       "5   /twiki/bin/rdiff/TWiki/NewUserTemplate?rev1=1....  HTTP/1.1       200   \n",
       "6                        /mailman/listinfo/hsdivision  HTTP/1.1       200   \n",
       "7                    /twiki/bin/view/TWiki/WikiSyntax  HTTP/1.1       200   \n",
       "8   /twiki/bin/edit/Main/Double_bounce_sender?topi...  HTTP/1.1       401   \n",
       "9   /twiki/bin/rdiff/TWiki/NewUserTemplate?rev1=1....  HTTP/1.1       200   \n",
       "10                       /mailman/listinfo/hsdivision  HTTP/1.1       200   \n",
       "11                   /twiki/bin/view/TWiki/WikiSyntax  HTTP/1.1       200   \n",
       "\n",
       "     size                                         user_agent  \n",
       "0   12846  Mozilla/5.0 (Windows NT 6.1; WOW64) AppleWebKi...  \n",
       "1    4523  Mozilla/5.0 (Windows; U; Windows NT 5.1; en-US...  \n",
       "2    6291  Mozilla/5.0 (Windows; U; Windows NT 5.1; en-US...  \n",
       "3    7352  Mozilla/5.0 (Windows; U; Windows NT 5.1; en-US...  \n",
       "4   12846                                               None  \n",
       "5    4523  Mozilla/5.0 (Windows; U; Windows NT 5.1; en-US...  \n",
       "6    6291  Mozilla/5.0 (Windows22; U; Windows NT 5.1; en-...  \n",
       "7    7352  Mozilla/5.0 (Windows NT 6.1; WOW64) AppleWebKi...  \n",
       "8   12846                                               None  \n",
       "9    4523  Mozilla/5.0 (Windows; U; Windows NT 5.1; en-US...  \n",
       "10   6291  Mozilla/5.0 (Windows; U; Windows NT 5.1; en-US...  \n",
       "11   7352  Mozilla/5.0   (compatible;    bingbot/2.0;    ...  "
      ]
     },
     "execution_count": 14,
     "metadata": {},
     "output_type": "execute_result"
    }
   ],
   "source": [
    "#query against the hive table\n",
    "sparkSession.sql(\"\"\"\n",
    "select *\n",
    "from useragent\n",
    "\n",
    "\"\"\").limit(30).toPandas()"
   ]
  },
  {
   "cell_type": "code",
   "execution_count": 15,
   "metadata": {},
   "outputs": [
    {
     "data": {
      "text/html": [
       "<div>\n",
       "<table border=\"1\" class=\"dataframe\">\n",
       "  <thead>\n",
       "    <tr style=\"text-align: right;\">\n",
       "      <th></th>\n",
       "      <th>ip</th>\n",
       "      <th>clientID</th>\n",
       "      <th>userID</th>\n",
       "      <th>time</th>\n",
       "      <th>method</th>\n",
       "      <th>endpoint</th>\n",
       "      <th>protocol</th>\n",
       "      <th>response</th>\n",
       "      <th>size</th>\n",
       "      <th>user_agent</th>\n",
       "    </tr>\n",
       "  </thead>\n",
       "  <tbody>\n",
       "    <tr>\n",
       "      <th>0</th>\n",
       "      <td>64.242.88.10</td>\n",
       "      <td>-</td>\n",
       "      <td>-</td>\n",
       "      <td>07/Mar/2004:16:05:49-0800</td>\n",
       "      <td>GET</td>\n",
       "      <td>/twiki/bin/edit/Main/Double_bounce_sender?topi...</td>\n",
       "      <td>HTTP/1.1</td>\n",
       "      <td>401</td>\n",
       "      <td>12846</td>\n",
       "      <td>Mozilla/5.0 (Windows NT 6.1; WOW64) AppleWebKi...</td>\n",
       "    </tr>\n",
       "    <tr>\n",
       "      <th>1</th>\n",
       "      <td>64.242.88.10</td>\n",
       "      <td>-</td>\n",
       "      <td>-</td>\n",
       "      <td>07/Mar/2004:16:06:51 -0800</td>\n",
       "      <td>GET</td>\n",
       "      <td>/twiki/bin/rdiff/TWiki/NewUserTemplate?rev1=1....</td>\n",
       "      <td>HTTP/1.1</td>\n",
       "      <td>200</td>\n",
       "      <td>4523</td>\n",
       "      <td>Mozilla/5.0 (Windows; U; Windows NT 5.1; en-US...</td>\n",
       "    </tr>\n",
       "    <tr>\n",
       "      <th>2</th>\n",
       "      <td>64.242.88.10</td>\n",
       "      <td>-</td>\n",
       "      <td>-</td>\n",
       "      <td>07/Mar/2004:16:10:02 -0800</td>\n",
       "      <td>GET</td>\n",
       "      <td>/mailman/listinfo/hsdivision</td>\n",
       "      <td>HTTP/1.1</td>\n",
       "      <td>200</td>\n",
       "      <td>6291</td>\n",
       "      <td>Mozilla/5.0 (Windows; U; Windows NT 5.1; en-US...</td>\n",
       "    </tr>\n",
       "    <tr>\n",
       "      <th>3</th>\n",
       "      <td>64.242.88.10</td>\n",
       "      <td>-</td>\n",
       "      <td>-</td>\n",
       "      <td>07/Mar/2004:16:11:58 -0800</td>\n",
       "      <td>GET</td>\n",
       "      <td>/twiki/bin/view/TWiki/WikiSyntax</td>\n",
       "      <td>HTTP/1.1</td>\n",
       "      <td>200</td>\n",
       "      <td>7352</td>\n",
       "      <td>Mozilla/5.0 (Windows; U; Windows NT 5.1; en-US...</td>\n",
       "    </tr>\n",
       "    <tr>\n",
       "      <th>4</th>\n",
       "      <td>64.240.88.10</td>\n",
       "      <td>-</td>\n",
       "      <td>-</td>\n",
       "      <td>07/Mar/2004:15:05:49 -0800</td>\n",
       "      <td>GET</td>\n",
       "      <td>/twiki/bin/edit/Main/Double_bounce_sender?topi...</td>\n",
       "      <td>HTTP/1.1</td>\n",
       "      <td>401</td>\n",
       "      <td>12846</td>\n",
       "      <td>None</td>\n",
       "    </tr>\n",
       "    <tr>\n",
       "      <th>5</th>\n",
       "      <td>64.240.88.10</td>\n",
       "      <td>-</td>\n",
       "      <td>-</td>\n",
       "      <td>07/Mar/2004:15:06:51 -0800</td>\n",
       "      <td>GET</td>\n",
       "      <td>/twiki/bin/rdiff/TWiki/NewUserTemplate?rev1=1....</td>\n",
       "      <td>HTTP/1.1</td>\n",
       "      <td>200</td>\n",
       "      <td>4523</td>\n",
       "      <td>Mozilla/5.0 (Windows; U; Windows NT 5.1; en-US...</td>\n",
       "    </tr>\n",
       "    <tr>\n",
       "      <th>6</th>\n",
       "      <td>64.240.88.10</td>\n",
       "      <td>-</td>\n",
       "      <td>-</td>\n",
       "      <td>07/Mar/2004:15:10:02 -0800</td>\n",
       "      <td>GET</td>\n",
       "      <td>/mailman/listinfo/hsdivision</td>\n",
       "      <td>HTTP/1.1</td>\n",
       "      <td>200</td>\n",
       "      <td>6291</td>\n",
       "      <td>Mozilla/5.0 (Windows22; U; Windows NT 5.1; en-...</td>\n",
       "    </tr>\n",
       "    <tr>\n",
       "      <th>7</th>\n",
       "      <td>64.240.88.10</td>\n",
       "      <td>-</td>\n",
       "      <td>-</td>\n",
       "      <td>07/Mar/2004:15:11:58 -0800</td>\n",
       "      <td>GET</td>\n",
       "      <td>/twiki/bin/view/TWiki/WikiSyntax</td>\n",
       "      <td>HTTP/1.1</td>\n",
       "      <td>200</td>\n",
       "      <td>7352</td>\n",
       "      <td>Mozilla/5.0 (Windows NT 6.1; WOW64) AppleWebKi...</td>\n",
       "    </tr>\n",
       "    <tr>\n",
       "      <th>8</th>\n",
       "      <td>68.240.88.10</td>\n",
       "      <td>-</td>\n",
       "      <td>-</td>\n",
       "      <td>07/Mar/2004:14:05:49 -0800</td>\n",
       "      <td>GET</td>\n",
       "      <td>/twiki/bin/edit/Main/Double_bounce_sender?topi...</td>\n",
       "      <td>HTTP/1.1</td>\n",
       "      <td>401</td>\n",
       "      <td>12846</td>\n",
       "      <td>None</td>\n",
       "    </tr>\n",
       "    <tr>\n",
       "      <th>9</th>\n",
       "      <td>68.240.88.10</td>\n",
       "      <td>-</td>\n",
       "      <td>-</td>\n",
       "      <td>07/Mar/2004:14:06:51 -0800</td>\n",
       "      <td>GET</td>\n",
       "      <td>/twiki/bin/rdiff/TWiki/NewUserTemplate?rev1=1....</td>\n",
       "      <td>HTTP/1.1</td>\n",
       "      <td>200</td>\n",
       "      <td>4523</td>\n",
       "      <td>Mozilla/5.0 (Windows; U; Windows NT 5.1; en-US...</td>\n",
       "    </tr>\n",
       "  </tbody>\n",
       "</table>\n",
       "</div>"
      ],
      "text/plain": [
       "             ip clientID userID                        time method  \\\n",
       "0  64.242.88.10        -      -   07/Mar/2004:16:05:49-0800    GET   \n",
       "1  64.242.88.10        -      -  07/Mar/2004:16:06:51 -0800    GET   \n",
       "2  64.242.88.10        -      -  07/Mar/2004:16:10:02 -0800    GET   \n",
       "3  64.242.88.10        -      -  07/Mar/2004:16:11:58 -0800    GET   \n",
       "4  64.240.88.10        -      -  07/Mar/2004:15:05:49 -0800    GET   \n",
       "5  64.240.88.10        -      -  07/Mar/2004:15:06:51 -0800    GET   \n",
       "6  64.240.88.10        -      -  07/Mar/2004:15:10:02 -0800    GET   \n",
       "7  64.240.88.10        -      -  07/Mar/2004:15:11:58 -0800    GET   \n",
       "8  68.240.88.10        -      -  07/Mar/2004:14:05:49 -0800    GET   \n",
       "9  68.240.88.10        -      -  07/Mar/2004:14:06:51 -0800    GET   \n",
       "\n",
       "                                            endpoint  protocol  response  \\\n",
       "0  /twiki/bin/edit/Main/Double_bounce_sender?topi...  HTTP/1.1       401   \n",
       "1  /twiki/bin/rdiff/TWiki/NewUserTemplate?rev1=1....  HTTP/1.1       200   \n",
       "2                       /mailman/listinfo/hsdivision  HTTP/1.1       200   \n",
       "3                   /twiki/bin/view/TWiki/WikiSyntax  HTTP/1.1       200   \n",
       "4  /twiki/bin/edit/Main/Double_bounce_sender?topi...  HTTP/1.1       401   \n",
       "5  /twiki/bin/rdiff/TWiki/NewUserTemplate?rev1=1....  HTTP/1.1       200   \n",
       "6                       /mailman/listinfo/hsdivision  HTTP/1.1       200   \n",
       "7                   /twiki/bin/view/TWiki/WikiSyntax  HTTP/1.1       200   \n",
       "8  /twiki/bin/edit/Main/Double_bounce_sender?topi...  HTTP/1.1       401   \n",
       "9  /twiki/bin/rdiff/TWiki/NewUserTemplate?rev1=1....  HTTP/1.1       200   \n",
       "\n",
       "    size                                         user_agent  \n",
       "0  12846  Mozilla/5.0 (Windows NT 6.1; WOW64) AppleWebKi...  \n",
       "1   4523  Mozilla/5.0 (Windows; U; Windows NT 5.1; en-US...  \n",
       "2   6291  Mozilla/5.0 (Windows; U; Windows NT 5.1; en-US...  \n",
       "3   7352  Mozilla/5.0 (Windows; U; Windows NT 5.1; en-US...  \n",
       "4  12846                                               None  \n",
       "5   4523  Mozilla/5.0 (Windows; U; Windows NT 5.1; en-US...  \n",
       "6   6291  Mozilla/5.0 (Windows22; U; Windows NT 5.1; en-...  \n",
       "7   7352  Mozilla/5.0 (Windows NT 6.1; WOW64) AppleWebKi...  \n",
       "8  12846                                               None  \n",
       "9   4523  Mozilla/5.0 (Windows; U; Windows NT 5.1; en-US...  "
      ]
     },
     "execution_count": 15,
     "metadata": {},
     "output_type": "execute_result"
    }
   ],
   "source": [
    "useragent_from_csv_df.limit(10).toPandas()"
   ]
  },
  {
   "cell_type": "code",
   "execution_count": 16,
   "metadata": {},
   "outputs": [],
   "source": [
    "#define parse_user_agent\n",
    "\n",
    "def parse_user_agent(user_agent):\n",
    "    \n",
    "    if user_agent is not None: \n",
    "        user_agent = re.sub(\"/?[\\d_.]+\", \"\", user_agent)\n",
    "        user_agent = re.sub(\"[;\\(\\):,]\", \"\", user_agent)\n",
    "        user_agent = user_agent.split()\n",
    "    \n",
    "    return user_agent\n",
    "\n",
    "parse_user_agent_udf = f.udf(parse_user_agent, t.ArrayType(t.StringType()))"
   ]
  },
  {
   "cell_type": "code",
   "execution_count": 17,
   "metadata": {},
   "outputs": [
    {
     "data": {
      "text/html": [
       "<div>\n",
       "<table border=\"1\" class=\"dataframe\">\n",
       "  <thead>\n",
       "    <tr style=\"text-align: right;\">\n",
       "      <th></th>\n",
       "      <th>word</th>\n",
       "      <th>count</th>\n",
       "    </tr>\n",
       "  </thead>\n",
       "  <tbody>\n",
       "    <tr>\n",
       "      <th>0</th>\n",
       "      <td>compatible</td>\n",
       "      <td>1</td>\n",
       "    </tr>\n",
       "    <tr>\n",
       "      <th>1</th>\n",
       "      <td>+http//wwwbingcom/bingbothtm</td>\n",
       "      <td>1</td>\n",
       "    </tr>\n",
       "    <tr>\n",
       "      <th>2</th>\n",
       "      <td>ABCD</td>\n",
       "      <td>1</td>\n",
       "    </tr>\n",
       "    <tr>\n",
       "      <th>3</th>\n",
       "      <td>bingbot</td>\n",
       "      <td>1</td>\n",
       "    </tr>\n",
       "    <tr>\n",
       "      <th>4</th>\n",
       "      <td>WOW</td>\n",
       "      <td>2</td>\n",
       "    </tr>\n",
       "    <tr>\n",
       "      <th>5</th>\n",
       "      <td>U</td>\n",
       "      <td>7</td>\n",
       "    </tr>\n",
       "    <tr>\n",
       "      <th>6</th>\n",
       "      <td>en-US</td>\n",
       "      <td>7</td>\n",
       "    </tr>\n",
       "    <tr>\n",
       "      <th>7</th>\n",
       "      <td>KHTML</td>\n",
       "      <td>8</td>\n",
       "    </tr>\n",
       "    <tr>\n",
       "      <th>8</th>\n",
       "      <td>NT</td>\n",
       "      <td>9</td>\n",
       "    </tr>\n",
       "    <tr>\n",
       "      <th>9</th>\n",
       "      <td>AppleWebKit</td>\n",
       "      <td>9</td>\n",
       "    </tr>\n",
       "    <tr>\n",
       "      <th>10</th>\n",
       "      <td>Mozilla</td>\n",
       "      <td>10</td>\n",
       "    </tr>\n",
       "    <tr>\n",
       "      <th>11</th>\n",
       "      <td>Windows</td>\n",
       "      <td>16</td>\n",
       "    </tr>\n",
       "  </tbody>\n",
       "</table>\n",
       "</div>"
      ],
      "text/plain": [
       "                            word  count\n",
       "0                     compatible      1\n",
       "1   +http//wwwbingcom/bingbothtm      1\n",
       "2                           ABCD      1\n",
       "3                        bingbot      1\n",
       "4                            WOW      2\n",
       "5                              U      7\n",
       "6                          en-US      7\n",
       "7                          KHTML      8\n",
       "8                             NT      9\n",
       "9                    AppleWebKit      9\n",
       "10                       Mozilla     10\n",
       "11                       Windows     16"
      ]
     },
     "execution_count": 17,
     "metadata": {},
     "output_type": "execute_result"
    }
   ],
   "source": [
    "useragent_from_csv_df.select(parse_user_agent_udf(\"user_agent\").alias(\"words\"))\\\n",
    "                     .select(f.explode(\"words\").alias(\"word\"))\\\n",
    "                     .groupBy(\"word\")\\\n",
    "                     .agg(f.count(\"*\").alias(\"count\"))\\\n",
    "                     .orderBy(f.col(\"count\"))\\\n",
    "                     .toPandas()\n",
    "    \n",
    "                            \n",
    "    "
   ]
  },
  {
   "cell_type": "code",
   "execution_count": null,
   "metadata": {},
   "outputs": [],
   "source": []
  },
  {
   "cell_type": "code",
   "execution_count": null,
   "metadata": {},
   "outputs": [],
   "source": []
  }
 ],
 "metadata": {
  "kernelspec": {
   "display_name": "Python 3",
   "language": "python",
   "name": "python3"
  },
  "language_info": {
   "codemirror_mode": {
    "name": "ipython",
    "version": 3
   },
   "file_extension": ".py",
   "mimetype": "text/x-python",
   "name": "python",
   "nbconvert_exporter": "python",
   "pygments_lexer": "ipython3",
   "version": "3.6.5"
  }
 },
 "nbformat": 4,
 "nbformat_minor": 2
}
